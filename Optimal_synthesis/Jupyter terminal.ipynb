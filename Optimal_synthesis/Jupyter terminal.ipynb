{
 "cells": [
  {
   "cell_type": "code",
   "execution_count": 1,
   "metadata": {
    "scrolled": true
   },
   "outputs": [],
   "source": [
    "from Optimal_synthesis import *"
   ]
  },
  {
   "cell_type": "markdown",
   "metadata": {},
   "source": [
    "Use function Found_synthesis([Area, Size, BDC to Zr6 ratio])\n"
   ]
  },
  {
   "cell_type": "code",
   "execution_count": 2,
   "metadata": {
    "scrolled": false
   },
   "outputs": [
    {
     "name": "stdout",
     "output_type": "stream",
     "text": [
      "Optimal synthesis from literature: \n",
      "\n",
      "Zr source:  ZrOCl2*8H2O\n",
      "[Zr], M:  0.09689600566980056\n",
      "[BDC], M: 0.09708681308652573\n",
      "Modulator:  None\n",
      "[Mod]:[Zr] ratio: 0.0\n",
      "[H2O]:[Zr] ratio: 0.0\n",
      "Aging, h: 0.0\n",
      "Temperature: 120.0\n",
      "Time:  21.0\n",
      "Number of DMF washes:  3\n",
      "Total number of washes:  6\n",
      "Activation temperature:  320.0\n",
      "Activation time:  12.0\n",
      "\n",
      "Properties:\n",
      "Area:  1076 m2/g\n",
      "Size:  541 nm\n",
      "BDC to Zr6 ratio:  5.09\n",
      "\n",
      "Try to optimize:\n",
      "\n",
      "Zr source:  ZrOCl2*8H2O\n",
      "[Zr], M:  0.10601040584230523\n",
      "[BDC], M: 0.09083776106659107\n",
      "Modulator:  None\n",
      "[Mod]:[Zr] ratio: 0.0\n",
      "[H2O]:[Zr] ratio: 5.992473926752238\n",
      "Aging, h: 0.0\n",
      "Temperature: 116\n",
      "Time:  14\n",
      "Number of DMF washes:  3\n",
      "Total number of washes:  6\n",
      "Activation temperature:  314\n",
      "Activation time:  14\n",
      "\n",
      "Oprimized properties:\n",
      "Area:  1095 m2/g\n",
      "Size:  499 nm\n",
      "BDC to Zr6 ratio:  4.91\n"
     ]
    }
   ],
   "source": [
    "Found_synthesis([1100,500,4.7])"
   ]
  },
  {
   "cell_type": "code",
   "execution_count": null,
   "metadata": {},
   "outputs": [],
   "source": []
  }
 ],
 "metadata": {
  "kernelspec": {
   "display_name": "Python 3",
   "language": "python",
   "name": "python3"
  },
  "language_info": {
   "codemirror_mode": {
    "name": "ipython",
    "version": 3
   },
   "file_extension": ".py",
   "mimetype": "text/x-python",
   "name": "python",
   "nbconvert_exporter": "python",
   "pygments_lexer": "ipython3",
   "version": "3.6.9"
  }
 },
 "nbformat": 4,
 "nbformat_minor": 2
}
